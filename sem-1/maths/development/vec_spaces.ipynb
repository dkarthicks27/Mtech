{
 "cells": [
  {
   "cell_type": "markdown",
   "id": "e81c7e3c",
   "metadata": {},
   "source": [
    "### Understanding Vector spaces"
   ]
  },
  {
   "cell_type": "code",
   "execution_count": 1,
   "id": "485c6f7f",
   "metadata": {},
   "outputs": [],
   "source": [
    "img1 = \"/Users/karthickdurai/Downloads/botox_dataset/after/0.png\"\n",
    "img2 = \"/Users/karthickdurai/Downloads/botox_dataset/after/1.png\""
   ]
  },
  {
   "cell_type": "code",
   "execution_count": 2,
   "id": "9c6b287d",
   "metadata": {},
   "outputs": [],
   "source": [
    "from PIL import Image"
   ]
  },
  {
   "cell_type": "code",
   "execution_count": 12,
   "id": "a58d88e7",
   "metadata": {},
   "outputs": [
    {
     "name": "stdout",
     "output_type": "stream",
     "text": [
      "(382, 533)\n",
      "(396, 378)\n"
     ]
    }
   ],
   "source": [
    "try:\n",
    "    # Open the image\n",
    "    # img = Image.open(img1)\n",
    "\n",
    "    # Display the image\n",
    "    print(img.size)\n",
    "    cropped_img = img.crop((45, 20, 200, 200))\n",
    "    print(Image.open(img2).size)\n",
    "    # cropped_img.show()\n",
    "    # img.show()\n",
    "\n",
    "except FileNotFoundError:\n",
    "    print(f\"Error: Image file not found at {image_path}\")\n",
    "except Exception as e:\n",
    "    print(f\"An error occurred: {e}\")"
   ]
  },
  {
   "cell_type": "markdown",
   "id": "718603b6-435f-4071-a670-fd6ac6b03040",
   "metadata": {},
   "source": [
    "##### Let's try resizing the image"
   ]
  },
  {
   "cell_type": "code",
   "execution_count": 20,
   "id": "5d9f8c7d",
   "metadata": {},
   "outputs": [
    {
     "name": "stdout",
     "output_type": "stream",
     "text": [
      "<class 'PIL.Image.Image'>\n"
     ]
    }
   ],
   "source": [
    "try:\n",
    "    img = Image.open(img1)\n",
    "    resized_img = img.resize((28, 28))\n",
    "    img_ = Image.open(img2)\n",
    "    res_img2 = img_.resize((28, 28))\n",
    "    print(type(res_img2))\n",
    "    # res_img2.show()\n",
    "    # resized_img.show()\n",
    "\n",
    "\n",
    "except Exception as e:\n",
    "    print(e)"
   ]
  },
  {
   "cell_type": "code",
   "execution_count": 32,
   "id": "30945c06-fe5c-49a8-bb0c-168530a6ecb5",
   "metadata": {},
   "outputs": [
    {
     "name": "stdout",
     "output_type": "stream",
     "text": [
      "[[[ 81 115 140 255]\n",
      "  [ 83 117 142 255]\n",
      "  [ 84 118 144 255]\n",
      "  ...\n",
      "  [104 135 162 255]\n",
      "  [103 135 161 255]\n",
      "  [103 134 159 255]]\n",
      "\n",
      " [[ 78 112 138 255]\n",
      "  [ 79 114 140 255]\n",
      "  [ 80 115 141 255]\n",
      "  ...\n",
      "  [101 133 160 255]\n",
      "  [102 134 160 255]\n",
      "  [101 132 159 255]]\n",
      "\n",
      " [[ 78 112 138 255]\n",
      "  [ 80 114 140 255]\n",
      "  [ 81 115 142 255]\n",
      "  ...\n",
      "  [102 133 158 255]\n",
      "  [103 134 161 255]\n",
      "  [102 134 160 255]]\n",
      "\n",
      " ...\n",
      "\n",
      " [[ 77  67  48 255]\n",
      "  [ 77  66  47 255]\n",
      "  [120  96  69 255]\n",
      "  ...\n",
      "  [116  83  50 255]\n",
      "  [125  92  62 255]\n",
      "  [139 108  74 255]]\n",
      "\n",
      " [[ 56  49  40 255]\n",
      "  [ 70  61  45 255]\n",
      "  [115  89  61 255]\n",
      "  ...\n",
      "  [112  86  58 255]\n",
      "  [112  86  61 255]\n",
      "  [130 102  68 255]]\n",
      "\n",
      " [[ 61  57  46 255]\n",
      "  [ 70  59  43 255]\n",
      "  [108  87  61 255]\n",
      "  ...\n",
      "  [132 106  75 255]\n",
      "  [143 120  88 255]\n",
      "  [145 120  85 255]]]\n"
     ]
    }
   ],
   "source": [
    "try:\n",
    "    import numpy as np\n",
    "    arr1 = np.asarray(resized_img, dtype=np.uint16)\n",
    "    arr2 = np.asarray(res_img2, dtype=np.uint16)\n",
    "    sum_arr = arr1 + arr2\n",
    "    sum_clipped = np.clip(sum_arr, 0, 255).astype(np.uint8)\n",
    "    sum_div = (sum_arr // 2).astype(np.uint8)\n",
    "    print(sum_div)\n",
    "    result = Image.fromarray(sum_div)\n",
    "    result.show()\n",
    "except Exception as e:\n",
    "    print(e)"
   ]
  },
  {
   "cell_type": "markdown",
   "id": "1736f50c",
   "metadata": {},
   "source": [
    "#### Let's prove the 10 axioms of vector spaces over this image dataset"
   ]
  },
  {
   "cell_type": "code",
   "execution_count": null,
   "id": "bdf8fc49",
   "metadata": {},
   "outputs": [],
   "source": []
  },
  {
   "cell_type": "markdown",
   "id": "818acfab",
   "metadata": {},
   "source": [
    "There are mainly 2 axioms, when it comes to vector space proving:\n",
    "\n",
    "1. addition over vectors\n",
    "2. scalar multiplication over vectors"
   ]
  },
  {
   "cell_type": "code",
   "execution_count": null,
   "id": "49788666",
   "metadata": {},
   "outputs": [],
   "source": []
  },
  {
   "cell_type": "code",
   "execution_count": null,
   "id": "2a939fe3",
   "metadata": {},
   "outputs": [],
   "source": []
  }
 ],
 "metadata": {
  "kernelspec": {
   "display_name": "Python 3 (ipykernel)",
   "language": "python",
   "name": "python3"
  },
  "language_info": {
   "codemirror_mode": {
    "name": "ipython",
    "version": 3
   },
   "file_extension": ".py",
   "mimetype": "text/x-python",
   "name": "python",
   "nbconvert_exporter": "python",
   "pygments_lexer": "ipython3",
   "version": "3.10.13"
  }
 },
 "nbformat": 4,
 "nbformat_minor": 5
}
