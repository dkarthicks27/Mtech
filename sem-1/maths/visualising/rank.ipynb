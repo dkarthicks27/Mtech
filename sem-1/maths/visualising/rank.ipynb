{
 "cells": [
  {
   "cell_type": "markdown",
   "id": "9cc6c699",
   "metadata": {},
   "source": [
    "### Visualising Rank of a matrix"
   ]
  },
  {
   "cell_type": "code",
   "execution_count": 1,
   "id": "032ee493",
   "metadata": {},
   "outputs": [],
   "source": [
    "import numpy as np"
   ]
  },
  {
   "cell_type": "code",
   "execution_count": 19,
   "id": "ab3bad49",
   "metadata": {},
   "outputs": [],
   "source": [
    "zero_d_arr = np.array(19)"
   ]
  },
  {
   "cell_type": "code",
   "execution_count": 20,
   "id": "1d109c42",
   "metadata": {},
   "outputs": [
    {
     "data": {
      "text/plain": [
       "numpy.ndarray"
      ]
     },
     "execution_count": 20,
     "metadata": {},
     "output_type": "execute_result"
    }
   ],
   "source": [
    "type(zero_d_arr)"
   ]
  },
  {
   "cell_type": "code",
   "execution_count": 22,
   "id": "dc6d35e2",
   "metadata": {},
   "outputs": [
    {
     "name": "stdout",
     "output_type": "stream",
     "text": [
      "19\n"
     ]
    }
   ],
   "source": [
    "print(zero_d_arr)"
   ]
  },
  {
   "cell_type": "code",
   "execution_count": 26,
   "id": "3bc52304",
   "metadata": {},
   "outputs": [],
   "source": [
    "one_d_arr = np.array([1, 3, 9])"
   ]
  },
  {
   "cell_type": "code",
   "execution_count": 24,
   "id": "37509cb4",
   "metadata": {},
   "outputs": [
    {
     "name": "stdout",
     "output_type": "stream",
     "text": [
      "[1 3 9]\n"
     ]
    }
   ],
   "source": [
    "print(one_d_arr)"
   ]
  },
  {
   "cell_type": "code",
   "execution_count": 29,
   "id": "29e65a9e",
   "metadata": {},
   "outputs": [],
   "source": [
    "two_d_arr = np.array([[1, 2], [3, 4]])"
   ]
  },
  {
   "cell_type": "code",
   "execution_count": 30,
   "id": "7058f291",
   "metadata": {},
   "outputs": [
    {
     "data": {
      "text/plain": [
       "2"
      ]
     },
     "execution_count": 30,
     "metadata": {},
     "output_type": "execute_result"
    }
   ],
   "source": [
    "np.linalg.matrix_rank(two_d_arr)"
   ]
  },
  {
   "cell_type": "code",
   "execution_count": 31,
   "id": "15e93361",
   "metadata": {},
   "outputs": [
    {
     "data": {
      "text/plain": [
       "2"
      ]
     },
     "execution_count": 31,
     "metadata": {},
     "output_type": "execute_result"
    }
   ],
   "source": [
    "two_d_arr.ndim"
   ]
  },
  {
   "cell_type": "markdown",
   "id": "5754c104",
   "metadata": {},
   "source": [
    "Let's create using ndim"
   ]
  },
  {
   "cell_type": "code",
   "execution_count": 32,
   "id": "708fd317",
   "metadata": {},
   "outputs": [],
   "source": [
    "n_d_arr = np.array(43, ndmin=3)"
   ]
  },
  {
   "cell_type": "code",
   "execution_count": 33,
   "id": "04586c8c",
   "metadata": {},
   "outputs": [
    {
     "name": "stdout",
     "output_type": "stream",
     "text": [
      "[[[43]]]\n"
     ]
    }
   ],
   "source": [
    "print(n_d_arr)"
   ]
  },
  {
   "cell_type": "code",
   "execution_count": null,
   "id": "b336e623",
   "metadata": {},
   "outputs": [],
   "source": []
  },
  {
   "cell_type": "code",
   "execution_count": 6,
   "id": "e332dd8f",
   "metadata": {},
   "outputs": [
    {
     "data": {
      "text/plain": [
       "1"
      ]
     },
     "execution_count": 6,
     "metadata": {},
     "output_type": "execute_result"
    }
   ],
   "source": [
    "np.linalg.matrix_rank(arr)"
   ]
  }
 ],
 "metadata": {
  "kernelspec": {
   "display_name": "Python 3",
   "language": "python",
   "name": "python3"
  },
  "language_info": {
   "codemirror_mode": {
    "name": "ipython",
    "version": 3
   },
   "file_extension": ".py",
   "mimetype": "text/x-python",
   "name": "python",
   "nbconvert_exporter": "python",
   "pygments_lexer": "ipython3",
   "version": "3.10.15"
  }
 },
 "nbformat": 4,
 "nbformat_minor": 5
}
